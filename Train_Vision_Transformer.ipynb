{
  "cells": [
    {
      "cell_type": "markdown",
      "metadata": {
        "id": "view-in-github",
        "colab_type": "text"
      },
      "source": [
        "<a href=\"https://colab.research.google.com/github/hackerpranavpandey/SOI_Mission_Mars_Terrain/blob/main/Train_Vision_Transformer.ipynb\" target=\"_parent\"><img src=\"https://colab.research.google.com/assets/colab-badge.svg\" alt=\"Open In Colab\"/></a>"
      ]
    },
    {
      "cell_type": "code",
      "execution_count": null,
      "metadata": {
        "colab": {
          "base_uri": "https://localhost:8080/"
        },
        "id": "zkYTHN2oGCYo",
        "outputId": "8b587a77-13bb-46fc-c7c5-faf77e04a928"
      },
      "outputs": [
        {
          "output_type": "stream",
          "name": "stdout",
          "text": [
            "Mounted at /content/drive\n"
          ]
        }
      ],
      "source": [
        "from google.colab import drive\n",
        "drive.mount('/content/drive')"
      ]
    },
    {
      "cell_type": "code",
      "execution_count": null,
      "metadata": {
        "id": "q1qiypP9GSoo"
      },
      "outputs": [],
      "source": [
        "path='/content/drive/MyDrive/'\n",
        "images_path=path+'Mission_Mars'"
      ]
    },
    {
      "cell_type": "code",
      "execution_count": null,
      "metadata": {
        "colab": {
          "base_uri": "https://localhost:8080/"
        },
        "id": "6k7vlnMPL5PI",
        "outputId": "9c438350-97d3-4de7-ed32-20a42e4ad1b5"
      },
      "outputs": [
        {
          "output_type": "execute_result",
          "data": {
            "text/plain": [
              "['train.csv', 'train_dataset', 'test_dataset', 'pred_resnet152.csv']"
            ]
          },
          "metadata": {},
          "execution_count": 20
        }
      ],
      "source": [
        "import os\n",
        "os.listdir(images_path)"
      ]
    },
    {
      "cell_type": "code",
      "execution_count": null,
      "metadata": {
        "colab": {
          "base_uri": "https://localhost:8080/",
          "height": 206
        },
        "id": "EPMQ9vM3NQHc",
        "outputId": "6ca3f35c-65c2-4db4-d0db-f60f9081f171"
      },
      "outputs": [
        {
          "output_type": "execute_result",
          "data": {
            "text/plain": [
              "  File Name        Class\n",
              "0     1.jpg        other\n",
              "1     2.jpg  bright dune\n",
              "2     3.jpg        other\n",
              "3     4.jpg       crater\n",
              "4     5.jpg        other"
            ],
            "text/html": [
              "\n",
              "  <div id=\"df-5a041466-694b-41bf-b4dc-972f6c3cdf2b\" class=\"colab-df-container\">\n",
              "    <div>\n",
              "<style scoped>\n",
              "    .dataframe tbody tr th:only-of-type {\n",
              "        vertical-align: middle;\n",
              "    }\n",
              "\n",
              "    .dataframe tbody tr th {\n",
              "        vertical-align: top;\n",
              "    }\n",
              "\n",
              "    .dataframe thead th {\n",
              "        text-align: right;\n",
              "    }\n",
              "</style>\n",
              "<table border=\"1\" class=\"dataframe\">\n",
              "  <thead>\n",
              "    <tr style=\"text-align: right;\">\n",
              "      <th></th>\n",
              "      <th>File Name</th>\n",
              "      <th>Class</th>\n",
              "    </tr>\n",
              "  </thead>\n",
              "  <tbody>\n",
              "    <tr>\n",
              "      <th>0</th>\n",
              "      <td>1.jpg</td>\n",
              "      <td>other</td>\n",
              "    </tr>\n",
              "    <tr>\n",
              "      <th>1</th>\n",
              "      <td>2.jpg</td>\n",
              "      <td>bright dune</td>\n",
              "    </tr>\n",
              "    <tr>\n",
              "      <th>2</th>\n",
              "      <td>3.jpg</td>\n",
              "      <td>other</td>\n",
              "    </tr>\n",
              "    <tr>\n",
              "      <th>3</th>\n",
              "      <td>4.jpg</td>\n",
              "      <td>crater</td>\n",
              "    </tr>\n",
              "    <tr>\n",
              "      <th>4</th>\n",
              "      <td>5.jpg</td>\n",
              "      <td>other</td>\n",
              "    </tr>\n",
              "  </tbody>\n",
              "</table>\n",
              "</div>\n",
              "    <div class=\"colab-df-buttons\">\n",
              "\n",
              "  <div class=\"colab-df-container\">\n",
              "    <button class=\"colab-df-convert\" onclick=\"convertToInteractive('df-5a041466-694b-41bf-b4dc-972f6c3cdf2b')\"\n",
              "            title=\"Convert this dataframe to an interactive table.\"\n",
              "            style=\"display:none;\">\n",
              "\n",
              "  <svg xmlns=\"http://www.w3.org/2000/svg\" height=\"24px\" viewBox=\"0 -960 960 960\">\n",
              "    <path d=\"M120-120v-720h720v720H120Zm60-500h600v-160H180v160Zm220 220h160v-160H400v160Zm0 220h160v-160H400v160ZM180-400h160v-160H180v160Zm440 0h160v-160H620v160ZM180-180h160v-160H180v160Zm440 0h160v-160H620v160Z\"/>\n",
              "  </svg>\n",
              "    </button>\n",
              "\n",
              "  <style>\n",
              "    .colab-df-container {\n",
              "      display:flex;\n",
              "      gap: 12px;\n",
              "    }\n",
              "\n",
              "    .colab-df-convert {\n",
              "      background-color: #E8F0FE;\n",
              "      border: none;\n",
              "      border-radius: 50%;\n",
              "      cursor: pointer;\n",
              "      display: none;\n",
              "      fill: #1967D2;\n",
              "      height: 32px;\n",
              "      padding: 0 0 0 0;\n",
              "      width: 32px;\n",
              "    }\n",
              "\n",
              "    .colab-df-convert:hover {\n",
              "      background-color: #E2EBFA;\n",
              "      box-shadow: 0px 1px 2px rgba(60, 64, 67, 0.3), 0px 1px 3px 1px rgba(60, 64, 67, 0.15);\n",
              "      fill: #174EA6;\n",
              "    }\n",
              "\n",
              "    .colab-df-buttons div {\n",
              "      margin-bottom: 4px;\n",
              "    }\n",
              "\n",
              "    [theme=dark] .colab-df-convert {\n",
              "      background-color: #3B4455;\n",
              "      fill: #D2E3FC;\n",
              "    }\n",
              "\n",
              "    [theme=dark] .colab-df-convert:hover {\n",
              "      background-color: #434B5C;\n",
              "      box-shadow: 0px 1px 3px 1px rgba(0, 0, 0, 0.15);\n",
              "      filter: drop-shadow(0px 1px 2px rgba(0, 0, 0, 0.3));\n",
              "      fill: #FFFFFF;\n",
              "    }\n",
              "  </style>\n",
              "\n",
              "    <script>\n",
              "      const buttonEl =\n",
              "        document.querySelector('#df-5a041466-694b-41bf-b4dc-972f6c3cdf2b button.colab-df-convert');\n",
              "      buttonEl.style.display =\n",
              "        google.colab.kernel.accessAllowed ? 'block' : 'none';\n",
              "\n",
              "      async function convertToInteractive(key) {\n",
              "        const element = document.querySelector('#df-5a041466-694b-41bf-b4dc-972f6c3cdf2b');\n",
              "        const dataTable =\n",
              "          await google.colab.kernel.invokeFunction('convertToInteractive',\n",
              "                                                    [key], {});\n",
              "        if (!dataTable) return;\n",
              "\n",
              "        const docLinkHtml = 'Like what you see? Visit the ' +\n",
              "          '<a target=\"_blank\" href=https://colab.research.google.com/notebooks/data_table.ipynb>data table notebook</a>'\n",
              "          + ' to learn more about interactive tables.';\n",
              "        element.innerHTML = '';\n",
              "        dataTable['output_type'] = 'display_data';\n",
              "        await google.colab.output.renderOutput(dataTable, element);\n",
              "        const docLink = document.createElement('div');\n",
              "        docLink.innerHTML = docLinkHtml;\n",
              "        element.appendChild(docLink);\n",
              "      }\n",
              "    </script>\n",
              "  </div>\n",
              "\n",
              "\n",
              "<div id=\"df-34de2143-46ab-4f02-a8e1-537e7778dc74\">\n",
              "  <button class=\"colab-df-quickchart\" onclick=\"quickchart('df-34de2143-46ab-4f02-a8e1-537e7778dc74')\"\n",
              "            title=\"Suggest charts\"\n",
              "            style=\"display:none;\">\n",
              "\n",
              "<svg xmlns=\"http://www.w3.org/2000/svg\" height=\"24px\"viewBox=\"0 0 24 24\"\n",
              "     width=\"24px\">\n",
              "    <g>\n",
              "        <path d=\"M19 3H5c-1.1 0-2 .9-2 2v14c0 1.1.9 2 2 2h14c1.1 0 2-.9 2-2V5c0-1.1-.9-2-2-2zM9 17H7v-7h2v7zm4 0h-2V7h2v10zm4 0h-2v-4h2v4z\"/>\n",
              "    </g>\n",
              "</svg>\n",
              "  </button>\n",
              "\n",
              "<style>\n",
              "  .colab-df-quickchart {\n",
              "      --bg-color: #E8F0FE;\n",
              "      --fill-color: #1967D2;\n",
              "      --hover-bg-color: #E2EBFA;\n",
              "      --hover-fill-color: #174EA6;\n",
              "      --disabled-fill-color: #AAA;\n",
              "      --disabled-bg-color: #DDD;\n",
              "  }\n",
              "\n",
              "  [theme=dark] .colab-df-quickchart {\n",
              "      --bg-color: #3B4455;\n",
              "      --fill-color: #D2E3FC;\n",
              "      --hover-bg-color: #434B5C;\n",
              "      --hover-fill-color: #FFFFFF;\n",
              "      --disabled-bg-color: #3B4455;\n",
              "      --disabled-fill-color: #666;\n",
              "  }\n",
              "\n",
              "  .colab-df-quickchart {\n",
              "    background-color: var(--bg-color);\n",
              "    border: none;\n",
              "    border-radius: 50%;\n",
              "    cursor: pointer;\n",
              "    display: none;\n",
              "    fill: var(--fill-color);\n",
              "    height: 32px;\n",
              "    padding: 0;\n",
              "    width: 32px;\n",
              "  }\n",
              "\n",
              "  .colab-df-quickchart:hover {\n",
              "    background-color: var(--hover-bg-color);\n",
              "    box-shadow: 0 1px 2px rgba(60, 64, 67, 0.3), 0 1px 3px 1px rgba(60, 64, 67, 0.15);\n",
              "    fill: var(--button-hover-fill-color);\n",
              "  }\n",
              "\n",
              "  .colab-df-quickchart-complete:disabled,\n",
              "  .colab-df-quickchart-complete:disabled:hover {\n",
              "    background-color: var(--disabled-bg-color);\n",
              "    fill: var(--disabled-fill-color);\n",
              "    box-shadow: none;\n",
              "  }\n",
              "\n",
              "  .colab-df-spinner {\n",
              "    border: 2px solid var(--fill-color);\n",
              "    border-color: transparent;\n",
              "    border-bottom-color: var(--fill-color);\n",
              "    animation:\n",
              "      spin 1s steps(1) infinite;\n",
              "  }\n",
              "\n",
              "  @keyframes spin {\n",
              "    0% {\n",
              "      border-color: transparent;\n",
              "      border-bottom-color: var(--fill-color);\n",
              "      border-left-color: var(--fill-color);\n",
              "    }\n",
              "    20% {\n",
              "      border-color: transparent;\n",
              "      border-left-color: var(--fill-color);\n",
              "      border-top-color: var(--fill-color);\n",
              "    }\n",
              "    30% {\n",
              "      border-color: transparent;\n",
              "      border-left-color: var(--fill-color);\n",
              "      border-top-color: var(--fill-color);\n",
              "      border-right-color: var(--fill-color);\n",
              "    }\n",
              "    40% {\n",
              "      border-color: transparent;\n",
              "      border-right-color: var(--fill-color);\n",
              "      border-top-color: var(--fill-color);\n",
              "    }\n",
              "    60% {\n",
              "      border-color: transparent;\n",
              "      border-right-color: var(--fill-color);\n",
              "    }\n",
              "    80% {\n",
              "      border-color: transparent;\n",
              "      border-right-color: var(--fill-color);\n",
              "      border-bottom-color: var(--fill-color);\n",
              "    }\n",
              "    90% {\n",
              "      border-color: transparent;\n",
              "      border-bottom-color: var(--fill-color);\n",
              "    }\n",
              "  }\n",
              "</style>\n",
              "\n",
              "  <script>\n",
              "    async function quickchart(key) {\n",
              "      const quickchartButtonEl =\n",
              "        document.querySelector('#' + key + ' button');\n",
              "      quickchartButtonEl.disabled = true;  // To prevent multiple clicks.\n",
              "      quickchartButtonEl.classList.add('colab-df-spinner');\n",
              "      try {\n",
              "        const charts = await google.colab.kernel.invokeFunction(\n",
              "            'suggestCharts', [key], {});\n",
              "      } catch (error) {\n",
              "        console.error('Error during call to suggestCharts:', error);\n",
              "      }\n",
              "      quickchartButtonEl.classList.remove('colab-df-spinner');\n",
              "      quickchartButtonEl.classList.add('colab-df-quickchart-complete');\n",
              "    }\n",
              "    (() => {\n",
              "      let quickchartButtonEl =\n",
              "        document.querySelector('#df-34de2143-46ab-4f02-a8e1-537e7778dc74 button');\n",
              "      quickchartButtonEl.style.display =\n",
              "        google.colab.kernel.accessAllowed ? 'block' : 'none';\n",
              "    })();\n",
              "  </script>\n",
              "</div>\n",
              "\n",
              "    </div>\n",
              "  </div>\n"
            ],
            "application/vnd.google.colaboratory.intrinsic+json": {
              "type": "dataframe",
              "variable_name": "df",
              "summary": "{\n  \"name\": \"df\",\n  \"rows\": 6201,\n  \"fields\": [\n    {\n      \"column\": \"File Name\",\n      \"properties\": {\n        \"dtype\": \"string\",\n        \"num_unique_values\": 6201,\n        \"samples\": [\n          \"5369.jpg\",\n          \"2464.jpg\",\n          \"2506.jpg\"\n        ],\n        \"semantic_type\": \"\",\n        \"description\": \"\"\n      }\n    },\n    {\n      \"column\": \"Class\",\n      \"properties\": {\n        \"dtype\": \"category\",\n        \"num_unique_values\": 8,\n        \"samples\": [\n          \"bright dune\",\n          \"swiss cheese\",\n          \"other\"\n        ],\n        \"semantic_type\": \"\",\n        \"description\": \"\"\n      }\n    }\n  ]\n}"
            }
          },
          "metadata": {},
          "execution_count": 21
        }
      ],
      "source": [
        "import pandas as pd\n",
        "df=pd.read_csv(images_path+'/train.csv')\n",
        "df.head()"
      ]
    },
    {
      "cell_type": "code",
      "execution_count": null,
      "metadata": {
        "colab": {
          "base_uri": "https://localhost:8080/"
        },
        "id": "_fa14PoQNY_X",
        "outputId": "dbc4dd65-38fd-4d40-b8a7-790a3a78742a"
      },
      "outputs": [
        {
          "output_type": "execute_result",
          "data": {
            "text/plain": [
              "Class        \n",
              "other            3651\n",
              "crater           1062\n",
              "bright dune       597\n",
              "slope streak      335\n",
              "swiss cheese      223\n",
              "dark dune         216\n",
              "spider             66\n",
              "impact ejecta      51\n",
              "Name: count, dtype: int64"
            ]
          },
          "metadata": {},
          "execution_count": 22
        }
      ],
      "source": [
        "df.iloc[:,1:].value_counts()"
      ]
    },
    {
      "cell_type": "code",
      "execution_count": null,
      "metadata": {
        "colab": {
          "base_uri": "https://localhost:8080/"
        },
        "id": "iL4-rrTpNwaf",
        "outputId": "ee91f60d-a866-4273-951a-95b54adad528"
      },
      "outputs": [
        {
          "output_type": "stream",
          "name": "stdout",
          "text": [
            "<class 'pandas.core.frame.DataFrame'>\n",
            "RangeIndex: 6201 entries, 0 to 6200\n",
            "Data columns (total 2 columns):\n",
            " #   Column     Non-Null Count  Dtype \n",
            "---  ------     --------------  ----- \n",
            " 0   File Name  6201 non-null   object\n",
            " 1   Class      6201 non-null   object\n",
            "dtypes: object(2)\n",
            "memory usage: 97.0+ KB\n"
          ]
        }
      ],
      "source": [
        "df.info()"
      ]
    },
    {
      "cell_type": "code",
      "execution_count": null,
      "metadata": {
        "id": "uQlPYIu3L8mR"
      },
      "outputs": [],
      "source": [
        "images_path+='/train_dataset/'"
      ]
    },
    {
      "cell_type": "code",
      "source": [
        "os.listdir(images_path)[:10]"
      ],
      "metadata": {
        "colab": {
          "base_uri": "https://localhost:8080/"
        },
        "id": "KSqqMCN5DEk-",
        "outputId": "0aa6ad67-6a51-4055-8ff0-fe026ac693d8"
      },
      "execution_count": null,
      "outputs": [
        {
          "output_type": "execute_result",
          "data": {
            "text/plain": [
              "['5664.jpg',\n",
              " '5659.jpg',\n",
              " '5672.jpg',\n",
              " '5686.jpg',\n",
              " '5662.jpg',\n",
              " '567.jpg',\n",
              " '5678.jpg',\n",
              " '5676.jpg',\n",
              " '5680.jpg',\n",
              " '5665.jpg']"
            ]
          },
          "metadata": {},
          "execution_count": 28
        }
      ]
    },
    {
      "cell_type": "code",
      "execution_count": null,
      "metadata": {
        "id": "QR8Sgp9fMkA3"
      },
      "outputs": [],
      "source": [
        "import cv2\n",
        "labels=[]\n",
        "images=[]\n",
        "for image in os.listdir(images_path):\n",
        "  image_array=cv2.imread(images_path+image,cv2.IMREAD_COLOR)\n",
        "  images.append(image_array)\n",
        "  label=int(image.split('.')[0])-1\n",
        "  labels.append(label)"
      ]
    },
    {
      "cell_type": "code",
      "execution_count": null,
      "metadata": {
        "id": "SoUzbweNN8PL"
      },
      "outputs": [],
      "source": [
        "for i in range(len(labels)):\n",
        "  labels[i]=df.iloc[labels[i],1:][0]"
      ]
    },
    {
      "cell_type": "code",
      "source": [
        "import matplotlib.pyplot as plt\n",
        "import numpy as np\n",
        "np.shape(images),np.shape(labels)"
      ],
      "metadata": {
        "colab": {
          "base_uri": "https://localhost:8080/"
        },
        "id": "I-sjbI_BDbuw",
        "outputId": "08333a09-fa95-4416-b494-eb1ea4c52da1"
      },
      "execution_count": null,
      "outputs": [
        {
          "output_type": "execute_result",
          "data": {
            "text/plain": [
              "((6201, 227, 227, 3), (6201,))"
            ]
          },
          "metadata": {},
          "execution_count": 42
        }
      ]
    },
    {
      "cell_type": "code",
      "source": [
        "print(images[0])"
      ],
      "metadata": {
        "colab": {
          "base_uri": "https://localhost:8080/"
        },
        "id": "TRDiWGvbDvUA",
        "outputId": "01b8e3a5-c8a6-4071-8cc2-0973e61b7355"
      },
      "execution_count": null,
      "outputs": [
        {
          "output_type": "stream",
          "name": "stdout",
          "text": [
            "[[[127 127 127]\n",
            "  [128 128 128]\n",
            "  [127 127 127]\n",
            "  ...\n",
            "  [138 138 138]\n",
            "  [131 131 131]\n",
            "  [125 125 125]]\n",
            "\n",
            " [[129 129 129]\n",
            "  [130 130 130]\n",
            "  [130 130 130]\n",
            "  ...\n",
            "  [134 134 134]\n",
            "  [129 129 129]\n",
            "  [125 125 125]]\n",
            "\n",
            " [[131 131 131]\n",
            "  [134 134 134]\n",
            "  [136 136 136]\n",
            "  ...\n",
            "  [131 131 131]\n",
            "  [128 128 128]\n",
            "  [126 126 126]]\n",
            "\n",
            " ...\n",
            "\n",
            " [[129 129 129]\n",
            "  [131 131 131]\n",
            "  [131 131 131]\n",
            "  ...\n",
            "  [113 113 113]\n",
            "  [110 110 110]\n",
            "  [108 108 108]]\n",
            "\n",
            " [[128 128 128]\n",
            "  [130 130 130]\n",
            "  [131 131 131]\n",
            "  ...\n",
            "  [108 108 108]\n",
            "  [102 102 102]\n",
            "  [ 98  98  98]]\n",
            "\n",
            " [[128 128 128]\n",
            "  [129 129 129]\n",
            "  [130 130 130]\n",
            "  ...\n",
            "  [105 105 105]\n",
            "  [ 95  95  95]\n",
            "  [ 89  89  89]]]\n"
          ]
        }
      ]
    },
    {
      "cell_type": "code",
      "source": [
        "plt.imshow(images[0])"
      ],
      "metadata": {
        "colab": {
          "base_uri": "https://localhost:8080/",
          "height": 452
        },
        "id": "Hs7081_GD8q7",
        "outputId": "5b9c0933-161a-4901-9f81-12332b63db14"
      },
      "execution_count": null,
      "outputs": [
        {
          "output_type": "execute_result",
          "data": {
            "text/plain": [
              "<matplotlib.image.AxesImage at 0x7e34195f2e00>"
            ]
          },
          "metadata": {},
          "execution_count": 44
        },
        {
          "output_type": "display_data",
          "data": {
            "text/plain": [
              "<Figure size 640x480 with 1 Axes>"
            ],
            "image/png": "[encoded data removed]"
          },
          "metadata": {}
        }
      ]
    },
    {
      "cell_type": "code",
      "source": [
        "labels[0]"
      ],
      "metadata": {
        "colab": {
          "base_uri": "https://localhost:8080/",
          "height": 36
        },
        "id": "cB1a8YgGFWS5",
        "outputId": "9e24e419-3055-48eb-89fa-b5471a59321f"
      },
      "execution_count": null,
      "outputs": [
        {
          "output_type": "execute_result",
          "data": {
            "text/plain": [
              "'swiss cheese'"
            ],
            "application/vnd.google.colaboratory.intrinsic+json": {
              "type": "string"
            }
          },
          "metadata": {},
          "execution_count": 45
        }
      ]
    },
    {
      "cell_type": "code",
      "source": [
        "## now lets do some data augementation for images with less  number to decrease the model underfitting\n",
        "def image_augmentation():\n",
        "  t=len(images)\n",
        "  for i in range(0,t):\n",
        "    rotated_array_90=cv2.rotate(images[i], cv2.ROTATE_90_CLOCKWISE)\n",
        "    rotate_180=cv2.rotate(images[i], cv2.ROTATE_180)\n",
        "    rotated_array_270 = cv2.rotate(images[i], cv2.ROTATE_90_COUNTERCLOCKWISE)\n",
        "    if labels[i]=='crater':\n",
        "      images.append(rotate_180)\n",
        "      labels.append(labels[i])\n",
        "    elif labels[i]==\"bright dune\" or labels[i]==\"slope streak\" or labels[i]==\"swiss cheese\" or labels[i]==\"dark dune\":\n",
        "      images.append(rotated_array_90)\n",
        "      labels.append(labels[i])\n",
        "      images.append(rotate_180)\n",
        "      labels.append(labels[i])\n",
        "    elif labels[i]==\"spider\" or labels[i]==\"impact ejecta\":\n",
        "      images.append(rotated_array_90)\n",
        "      labels.append(labels[i])\n",
        "      images.append(rotate_180)\n",
        "      labels.append(labels[i])\n",
        "      images.append(rotated_array_270)\n",
        "      labels.append(labels[i])\n",
        "image_augmentation()"
      ],
      "metadata": {
        "id": "MOPwCCPFFZbU"
      },
      "execution_count": null,
      "outputs": []
    },
    {
      "cell_type": "code",
      "source": [
        "np.shape(images),np.shape(labels)"
      ],
      "metadata": {
        "colab": {
          "base_uri": "https://localhost:8080/"
        },
        "id": "0CQMHb9BFnL4",
        "outputId": "e532c0cb-bc50-4534-80a1-e7687e8a0988"
      },
      "execution_count": null,
      "outputs": [
        {
          "output_type": "execute_result",
          "data": {
            "text/plain": [
              "((10356, 227, 227, 3), (10356,))"
            ]
          },
          "metadata": {},
          "execution_count": 48
        }
      ]
    },
    {
      "cell_type": "code",
      "source": [
        "from sklearn.preprocessing import LabelEncoder\n",
        "label_encoder = LabelEncoder()\n",
        "target = label_encoder.fit_transform(labels)\n",
        "encoded_mapping = {label: encoded_value for label, encoded_value in zip(target,labels)}\n",
        "print(encoded_mapping)"
      ],
      "metadata": {
        "colab": {
          "base_uri": "https://localhost:8080/"
        },
        "id": "nGrGqXpcF7q4",
        "outputId": "e8cb03f5-436f-438f-a203-3e33453a2b08"
      },
      "execution_count": null,
      "outputs": [
        {
          "output_type": "stream",
          "name": "stdout",
          "text": [
            "{7: 'swiss cheese', 4: 'other', 0: 'bright dune', 1: 'crater', 3: 'impact ejecta', 2: 'dark dune', 5: 'slope streak', 6: 'spider'}\n"
          ]
        }
      ]
    },
    {
      "cell_type": "code",
      "source": [
        "import numpy as np\n",
        "from sklearn.model_selection import train_test_split\n",
        "images = np.array(images)\n",
        "labels = np.array(labels)\n",
        "train_images, val_images, train_labels, val_labels = train_test_split(images, target, test_size=0.2, random_state=42)"
      ],
      "metadata": {
        "id": "aIfd6e3qF9rt"
      },
      "execution_count": null,
      "outputs": []
    },
    {
      "cell_type": "code",
      "source": [
        "unique, counts = np.unique(train_labels, return_counts=True)\n",
        "print(unique, counts)"
      ],
      "metadata": {
        "colab": {
          "base_uri": "https://localhost:8080/"
        },
        "id": "7PNC3U4HGEIn",
        "outputId": "83b62d52-8cae-4615-ce7b-a3127c6c91db"
      },
      "execution_count": null,
      "outputs": [
        {
          "output_type": "stream",
          "name": "stdout",
          "text": [
            "[0 1 2 3 4 5 6 7] [1436 1679  524  174 2920  800  218  533]\n"
          ]
        }
      ]
    },
    {
      "cell_type": "code",
      "source": [
        "unique,counts=np.unique(val_labels,return_counts=True)\n",
        "print(unique,counts)"
      ],
      "metadata": {
        "colab": {
          "base_uri": "https://localhost:8080/"
        },
        "id": "66fNySV3GGcl",
        "outputId": "4bddef48-9334-47cf-ccc9-36f7fa211494"
      },
      "execution_count": null,
      "outputs": [
        {
          "output_type": "stream",
          "name": "stdout",
          "text": [
            "[0 1 2 3 4 5 6 7] [355 445 124  30 731 205  46 136]\n"
          ]
        }
      ]
    },
    {
      "cell_type": "code",
      "source": [
        "import torch\n",
        "from torch.utils.data import Dataset\n",
        "from PIL import Image\n",
        "class CustomDataset(Dataset):\n",
        "    def __init__(self, images, labels, transform=None):\n",
        "        self.images = images\n",
        "        self.labels = labels\n",
        "        self.transform = transform\n",
        "    def __len__(self):\n",
        "        return len(self.images)\n",
        "    def __getitem__(self, idx):\n",
        "        image = self.images[idx]\n",
        "        label = self.labels[idx]\n",
        "        image = Image.fromarray(image)\n",
        "        if self.transform:\n",
        "            image = self.transform(image)\n",
        "        return image, label"
      ],
      "metadata": {
        "id": "RkiPAWaVGJHe"
      },
      "execution_count": null,
      "outputs": []
    },
    {
      "cell_type": "code",
      "source": [
        "from torchvision import transforms\n",
        "data_transforms = transforms.Compose([\n",
        "    transforms.Resize((224, 224)),\n",
        "    transforms.ToTensor(),\n",
        "    transforms.Normalize(mean=[0.485, 0.456, 0.406], std=[0.229, 0.224, 0.225])   ## har 3 channel ke liye R,G,B these mean values are used for imageNet dataset\n",
        "                                     ])"
      ],
      "metadata": {
        "id": "sG0Z13EDGMRR"
      },
      "execution_count": null,
      "outputs": []
    },
    {
      "cell_type": "code",
      "source": [
        "from torch.utils.data import DataLoader\n",
        "train_dataset = CustomDataset(train_images, train_labels, transform=data_transforms)\n",
        "val_dataset = CustomDataset(val_images, val_labels, transform=data_transforms)\n",
        "train_loader = DataLoader(train_dataset, batch_size=32, shuffle=True, num_workers=4)\n",
        "val_loader = DataLoader(val_dataset, batch_size=32, shuffle=False, num_workers=4)"
      ],
      "metadata": {
        "colab": {
          "base_uri": "https://localhost:8080/"
        },
        "id": "l2-BG40oGNvo",
        "outputId": "b1f7cfaf-ac68-4a72-8450-dfa51b5679b3"
      },
      "execution_count": null,
      "outputs": [
        {
          "output_type": "stream",
          "name": "stderr",
          "text": [
            "/usr/local/lib/python3.10/dist-packages/torch/utils/data/dataloader.py:558: UserWarning: This DataLoader will create 4 worker processes in total. Our suggested max number of worker in current system is 2, which is smaller than what this DataLoader is going to create. Please be aware that excessive worker creation might get DataLoader running slow or even freeze, lower the worker number to avoid potential slowness/freeze if necessary.\n",
            "  warnings.warn(_create_warning_msg(\n"
          ]
        }
      ]
    },
    {
      "cell_type": "code",
      "source": [
        "for image,label in train_dataset:\n",
        "  print(image)\n",
        "  print(label)\n",
        "  break"
      ],
      "metadata": {
        "colab": {
          "base_uri": "https://localhost:8080/"
        },
        "id": "D9WUjmdDGPmq",
        "outputId": "f4ee8d89-02d9-4cdf-ad37-ae57ce48a700"
      },
      "execution_count": null,
      "outputs": [
        {
          "output_type": "stream",
          "name": "stdout",
          "text": [
            "tensor([[[0.8961, 0.9132, 0.9303,  ..., 0.5536, 0.5878, 0.6049],\n",
            "         [0.9132, 0.9132, 0.9303,  ..., 0.5536, 0.5878, 0.6221],\n",
            "         [0.9132, 0.9132, 0.9132,  ..., 0.5878, 0.6221, 0.6563],\n",
            "         ...,\n",
            "         [0.5364, 0.5364, 0.5193,  ..., 0.4851, 0.4851, 0.5022],\n",
            "         [0.5364, 0.5193, 0.5022,  ..., 0.4851, 0.4851, 0.5022],\n",
            "         [0.5364, 0.5193, 0.4851,  ..., 0.4851, 0.4851, 0.4851]],\n",
            "\n",
            "        [[1.0455, 1.0630, 1.0805,  ..., 0.6954, 0.7304, 0.7479],\n",
            "         [1.0630, 1.0630, 1.0805,  ..., 0.6954, 0.7304, 0.7654],\n",
            "         [1.0630, 1.0630, 1.0630,  ..., 0.7304, 0.7654, 0.8004],\n",
            "         ...,\n",
            "         [0.6779, 0.6779, 0.6604,  ..., 0.6254, 0.6254, 0.6429],\n",
            "         [0.6779, 0.6604, 0.6429,  ..., 0.6254, 0.6254, 0.6429],\n",
            "         [0.6779, 0.6604, 0.6254,  ..., 0.6254, 0.6254, 0.6254]],\n",
            "\n",
            "        [[1.2631, 1.2805, 1.2980,  ..., 0.9145, 0.9494, 0.9668],\n",
            "         [1.2805, 1.2805, 1.2980,  ..., 0.9145, 0.9494, 0.9842],\n",
            "         [1.2805, 1.2805, 1.2805,  ..., 0.9494, 0.9842, 1.0191],\n",
            "         ...,\n",
            "         [0.8971, 0.8971, 0.8797,  ..., 0.8448, 0.8448, 0.8622],\n",
            "         [0.8971, 0.8797, 0.8622,  ..., 0.8448, 0.8448, 0.8622],\n",
            "         [0.8971, 0.8797, 0.8448,  ..., 0.8448, 0.8448, 0.8448]]])\n",
            "4\n"
          ]
        }
      ]
    },
    {
      "cell_type": "code",
      "source": [
        "from torchvision import models\n",
        "import torch.nn as nn\n",
        "num_classes = len(np.unique(labels))\n",
        "device = torch.device('cuda' if torch.cuda.is_available() else 'cpu')\n",
        "model = models.vision_transformer.vit_b_16(pretrained=True)\n",
        "num_ftrs = model.heads.head.in_features\n",
        "model.heads.head = nn.Linear(num_ftrs, num_classes)\n",
        "model = model.to(device)"
      ],
      "metadata": {
        "colab": {
          "base_uri": "https://localhost:8080/"
        },
        "id": "ANNvI31sGiqf",
        "outputId": "c31c5ea4-b422-4f22-f96a-0362a26148dc"
      },
      "execution_count": null,
      "outputs": [
        {
          "output_type": "stream",
          "name": "stderr",
          "text": [
            "/usr/local/lib/python3.10/dist-packages/torchvision/models/_utils.py:208: UserWarning: The parameter 'pretrained' is deprecated since 0.13 and may be removed in the future, please use 'weights' instead.\n",
            "  warnings.warn(\n",
            "/usr/local/lib/python3.10/dist-packages/torchvision/models/_utils.py:223: UserWarning: Arguments other than a weight enum or `None` for 'weights' are deprecated since 0.13 and may be removed in the future. The current behavior is equivalent to passing `weights=ViT_B_16_Weights.IMAGENET1K_V1`. You can also use `weights=ViT_B_16_Weights.DEFAULT` to get the most up-to-date weights.\n",
            "  warnings.warn(msg)\n"
          ]
        }
      ]
    },
    {
      "cell_type": "code",
      "source": [
        "def patching(image,patch_num):\n",
        "  n,c,h,w=image.shape\n",
        ""
      ],
      "metadata": {
        "id": "jN7ObJ7SE_Y8"
      },
      "execution_count": null,
      "outputs": []
    },
    {
      "cell_type": "code",
      "source": [
        "import torch.optim as optim\n",
        "criterion = nn.CrossEntropyLoss()\n",
        "optimizer = optim.Adam(model.parameters(), lr=0.001)"
      ],
      "metadata": {
        "id": "idcdkSx6HVFW"
      },
      "execution_count": null,
      "outputs": []
    },
    {
      "cell_type": "code",
      "source": [
        "from sklearn.metrics import confusion_matrix\n",
        "import matplotlib.pyplot as plt\n",
        "import seaborn as sns\n",
        "save_path = '/content/drive/MyDrive/model.pth'\n",
        "num_classes=8\n",
        "def train_model(model, train_loader, val_loader, criterion, optimizer, num_epochs=40):\n",
        "    for epoch in range(num_epochs):\n",
        "        model.train()\n",
        "        running_loss = 0.0\n",
        "        correct_train = 0\n",
        "        total_train = 0\n",
        "        all_labels_train=[]\n",
        "        all_pred_train=[]\n",
        "        for inputs, labels in train_loader:\n",
        "            inputs, labels = inputs.to(device), labels.to(device)\n",
        "            optimizer.zero_grad()\n",
        "            outputs = model(inputs)\n",
        "            loss = criterion(outputs, labels)\n",
        "            loss.backward()\n",
        "            optimizer.step()\n",
        "            running_loss += loss.item()\n",
        "            _, predicted = torch.max(outputs, 1)\n",
        "            total_train += labels.size(0)\n",
        "            correct_train += (predicted == labels).sum().item()\n",
        "            all_labels_train.extend(labels.cpu().numpy())\n",
        "            all_pred_train.extend(predicted.cpu().numpy())\n",
        "        train_loss = running_loss / len(train_loader)\n",
        "        train_accuracy = 100 * correct_train / total_train\n",
        "        model.eval()\n",
        "        correct_val = 0\n",
        "        total_val = 0\n",
        "        val_loss = 0.0\n",
        "        all_labels_val=[]\n",
        "        all_pred_val=[]\n",
        "        with torch.no_grad():\n",
        "            for inputs, labels in val_loader:\n",
        "                inputs, labels = inputs.to(device), labels.to(device)\n",
        "                outputs = model(inputs)\n",
        "                loss = criterion(outputs, labels)\n",
        "                val_loss += loss.item()\n",
        "                max_value,predicted = torch.max(outputs, 1)\n",
        "                total_val += labels.size(0)\n",
        "                correct_val += (predicted == labels).sum().item()\n",
        "                all_labels_val.extend(labels.cpu().numpy())\n",
        "                all_pred_val.extend(predicted.cpu().numpy())\n",
        "        val_loss = val_loss / len(val_loader)\n",
        "        val_accuracy = 100 * correct_val / total_val\n",
        "        train_conf_matrix=confusion_matrix(all_labels_train,all_pred_train,labels=list(range(num_classes)))\n",
        "        test_conf_matrix=confusion_matrix(all_labels_val,all_pred_val,labels=list(range(num_classes)))\n",
        "        if epoch==39:\n",
        "          sns.heatmap(train_conf_matrix,annot=True,fmt='d',cmap=\"Blues\",xticklabels=list(range(num_classes)),yticklabels=list(range(num_classes)))\n",
        "          plt.title('confusion matrix')\n",
        "          plt.xlabel('Predicted')\n",
        "          plt.ylabel('Actual')\n",
        "          plt.show()\n",
        "          sns.heatmap(test_conf_matrix,annot=True,fmt='d',cmap=\"Blues\",xticklabels=list(range(num_classes)),yticklabels=list(range(num_classes)))\n",
        "          plt.title('confusion matrix')\n",
        "          plt.xlabel('Predicted')\n",
        "          plt.ylabel('Actual')\n",
        "          plt.show()\n",
        "          torch.save(model.state_dict(),save_path)\n",
        "          break\n",
        "        print(f'Epoch {epoch+1}/{num_epochs}, Train Loss: {train_loss:.4f}, Train Accuracy: {train_accuracy:.2f}%, Val Loss: {val_loss:.4f}, Val Accuracy: {val_accuracy:.2f}%')\n",
        "train_model(model, train_loader, val_loader, criterion, optimizer, num_epochs=40)"
      ],
      "metadata": {
        "colab": {
          "base_uri": "https://localhost:8080/"
        },
        "id": "e1YHZs_THmbD",
        "outputId": "b79f5900-e7e9-4510-8610-58b47da0f83a"
      },
      "execution_count": null,
      "outputs": [
        {
          "output_type": "stream",
          "name": "stdout",
          "text": [
            "Epoch 1/40, Train Loss: 1.4200, Train Accuracy: 46.64%, Val Loss: 1.2122, Val Accuracy: 53.96%\n"
          ]
        },
        {
          "output_type": "stream",
          "name": "stderr",
          "text": [
            "/usr/local/lib/python3.10/dist-packages/torch/utils/data/dataloader.py:558: UserWarning: This DataLoader will create 4 worker processes in total. Our suggested max number of worker in current system is 2, which is smaller than what this DataLoader is going to create. Please be aware that excessive worker creation might get DataLoader running slow or even freeze, lower the worker number to avoid potential slowness/freeze if necessary.\n",
            "  warnings.warn(_create_warning_msg(\n"
          ]
        }
      ]
    }
  ],
  "metadata": {
    "colab": {
      "provenance": [],
      "gpuType": "T4",
      "authorship_tag": "ABX9TyPEiWHlOMJx55YLbXpR0rvF",
      "include_colab_link": true
    },
    "kernelspec": {
      "display_name": "Python 3",
      "name": "python3"
    },
    "language_info": {
      "name": "python"
    },
    "accelerator": "GPU"
  },
  "nbformat": 4,
  "nbformat_minor": 0
}